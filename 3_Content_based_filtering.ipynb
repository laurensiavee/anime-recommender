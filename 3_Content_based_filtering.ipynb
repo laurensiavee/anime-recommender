{
 "cells": [
  {
   "cell_type": "markdown",
   "metadata": {},
   "source": [
    "# ANIME RECOMMENDER SYSTEM\n",
    "## Anime Recommender System based on content and collaborative filtering"
   ]
  },
  {
   "cell_type": "markdown",
   "metadata": {},
   "source": [
    "### Let's build our content-based filtering recommender system"
   ]
  },
  {
   "cell_type": "markdown",
   "metadata": {},
   "source": [
    "### Objective: \n",
    "- Build Sypnopsis, Genres, and Studios -based filtering\n",
    "- Build full content-based filtering (combination of feature)\n",
    "- Model demonstration"
   ]
  },
  {
   "cell_type": "markdown",
   "metadata": {},
   "source": [
    "## CONTENT-BASED VS COLLABORATIVE FILTERING"
   ]
  },
  {
   "cell_type": "markdown",
   "metadata": {},
   "source": [
    "![img](img/3_content_vs_collab.png)"
   ]
  },
  {
   "cell_type": "markdown",
   "metadata": {},
   "source": [
    "Collaborative filtering is a recomender system that works by finding similar interest from other user. \n",
    "\n",
    "Meanwhile, Content-based filtering is a recommender system that works by finding similarity in the content of the anime that user likes(Genres, sypnopsis, etc)."
   ]
  },
  {
   "cell_type": "markdown",
   "metadata": {},
   "source": [
    "### With all set, lets build our model! さぁ、始めよう!!"
   ]
  },
  {
   "cell_type": "markdown",
   "metadata": {},
   "source": [
    "## TABLE OF CONTENT\n",
    "- MODEL BUILDING (CONTENT-BASED FILTERING)\n",
    "- MODEL DEMONSTRATION SAMPLE"
   ]
  },
  {
   "cell_type": "code",
   "execution_count": 1,
   "metadata": {},
   "outputs": [],
   "source": [
    "# basic library\n",
    "import numpy as np \n",
    "import pandas as pd \n",
    "import seaborn as sns\n",
    "import matplotlib.pyplot as plt\n",
    "import warnings\n",
    "warnings.filterwarnings('ignore')"
   ]
  },
  {
   "cell_type": "code",
   "execution_count": 2,
   "metadata": {},
   "outputs": [],
   "source": [
    "# load data\n",
    "anime_subset = pd.read_csv('dataset/exported_dataset/anime_subset.csv')"
   ]
  },
  {
   "cell_type": "markdown",
   "metadata": {},
   "source": [
    "## CONTENT-BASED FILTERING\n",
    "Content-based filtering is works by finding similarity (by computing pairwise similarity scores based on TF-IDF Matrix) in the content. The content in this case can be the titles, sypnopsis, genres, etc. \n",
    "\n",
    "\n",
    "TF-IDF:\n",
    "\n",
    "![img](img/4_tfidf.png)\n",
    "\n",
    "We will do content-based filtering recommender with this features:\n",
    "- sypnopsis based recommender\n",
    "- Genres based recommender\n",
    "- Studios based recommender\n",
    "\n",
    "Lastly, we will combining all those feature to create 1 content combination recommender. We will combine all features by making a 'soup' or combining all column into 1 new feature.\n"
   ]
  },
  {
   "cell_type": "markdown",
   "metadata": {},
   "source": [
    "## essential function:"
   ]
  },
  {
   "cell_type": "code",
   "execution_count": 3,
   "metadata": {},
   "outputs": [],
   "source": [
    "from sklearn.feature_extraction.text import TfidfVectorizer\n",
    "from sklearn.metrics.pairwise import sigmoid_kernel"
   ]
  },
  {
   "cell_type": "code",
   "execution_count": 4,
   "metadata": {},
   "outputs": [],
   "source": [
    "def get_tf_matrix(col):\n",
    "    tf = TfidfVectorizer(stop_words='english')\n",
    "    anime_subset[col] = anime_subset[col].fillna('')\n",
    "\n",
    "    tf_matrix = tf.fit_transform(anime_subset[col])\n",
    "    tf_matrix.shape\n",
    "    return tf_matrix"
   ]
  },
  {
   "cell_type": "code",
   "execution_count": 5,
   "metadata": {},
   "outputs": [],
   "source": [
    "def get_cosine(tf_matrix):\n",
    "    # compute cosine similarity matrix\n",
    "    cosine_sim = sigmoid_kernel(tf_matrix, tf_matrix)\n",
    "    return cosine_sim"
   ]
  },
  {
   "cell_type": "code",
   "execution_count": 6,
   "metadata": {},
   "outputs": [],
   "source": [
    "# get indices for every anime\n",
    "indices = pd.Series(anime_subset.index, index=anime_subset['Name']).drop_duplicates()"
   ]
  },
  {
   "cell_type": "code",
   "execution_count": 7,
   "metadata": {},
   "outputs": [],
   "source": [
    "# list to string\n",
    "col_list = ['Genres', 'Studios']\n",
    "for i in col_list:\n",
    "    anime_subset[i] = anime_subset[i].astype(str)"
   ]
  },
  {
   "cell_type": "markdown",
   "metadata": {},
   "source": [
    "### Sypnopsis based Recommender\n",
    "recommendation based on similar sypnopsis of an anime, we will do this by computing pairwise similarity scores."
   ]
  },
  {
   "cell_type": "code",
   "execution_count": 8,
   "metadata": {},
   "outputs": [],
   "source": [
    "tf_matrix_sypnopsis = get_tf_matrix('sypnopsis')\n",
    "cosine_sim_sypnopsis = get_cosine(tf_matrix_sypnopsis)"
   ]
  },
  {
   "cell_type": "markdown",
   "metadata": {},
   "source": [
    "### Genres based Recommender"
   ]
  },
  {
   "cell_type": "code",
   "execution_count": 9,
   "metadata": {},
   "outputs": [],
   "source": [
    "tf_matrix_genres = get_tf_matrix('Genres')\n",
    "cosine_sim_genres = get_cosine(tf_matrix_genres)"
   ]
  },
  {
   "cell_type": "markdown",
   "metadata": {},
   "source": [
    "### Studios based Recommender"
   ]
  },
  {
   "cell_type": "code",
   "execution_count": 10,
   "metadata": {},
   "outputs": [],
   "source": [
    "tf_matrix_studios = get_tf_matrix('Studios')\n",
    "cosine_sim_studios = get_cosine(tf_matrix_studios)"
   ]
  },
  {
   "cell_type": "markdown",
   "metadata": {},
   "source": [
    "### Feature Combination based Recommender\n",
    "creating content with combination of feature. we will create 'metadata soup' contain the feature we will combine in a single string"
   ]
  },
  {
   "cell_type": "code",
   "execution_count": 11,
   "metadata": {},
   "outputs": [],
   "source": [
    "# create soup combining feature:\n",
    "feature = ['Genres', 'Type', 'Studios', 'Source', 'sypnopsis']\n",
    "for i in feature:\n",
    "    anime_subset = anime_subset.astype(str)\n",
    "anime_subset['soup'] = anime_subset[feature].apply(lambda row: '  '.join(row.values.astype(str)), axis=1)"
   ]
  },
  {
   "cell_type": "code",
   "execution_count": 12,
   "metadata": {},
   "outputs": [],
   "source": [
    "tf_matrix_soup = get_tf_matrix('soup')\n",
    "cosine_sim_soup = get_cosine(tf_matrix_soup)"
   ]
  },
  {
   "cell_type": "code",
   "execution_count": 13,
   "metadata": {},
   "outputs": [],
   "source": [
    "# get recommendation function for content based filtering\n",
    "def get_rec_content(title, cosine_sim):\n",
    "    # get index of title\n",
    "    idx = indices[title]\n",
    "    \n",
    "    # pairwise similarity score \n",
    "    sim = list(enumerate(cosine_sim[idx]))\n",
    "    sim = sorted(sim, key=lambda x: x[1], reverse=True)\n",
    "    sim = sim[1:11]\n",
    "\n",
    "    # indices sim \n",
    "    anime_indices = [i[0] for i in sim]\n",
    "    return anime_subset['Name'].iloc[anime_indices]"
   ]
  },
  {
   "cell_type": "markdown",
   "metadata": {},
   "source": [
    "# MODEL DEMONSTRATION SAMPLE"
   ]
  },
  {
   "cell_type": "markdown",
   "metadata": {},
   "source": [
    "## CONTENT BASED FILTERING DEMO"
   ]
  },
  {
   "cell_type": "code",
   "execution_count": 14,
   "metadata": {},
   "outputs": [
    {
     "data": {
      "text/plain": [
       "15199                     Haikyuu!!: To the Top\n",
       "9895                    Haikyuu!! Second Season\n",
       "2803                              Attacker You!\n",
       "3592                           Ashita e Attack!\n",
       "5654                         Attack No.1 (1970)\n",
       "13273                   Haikyuu!!: vs. \"Akaten\"\n",
       "1407                                Attack No.1\n",
       "4898     Shoujo Fight: Norainu-tachi no Odekake\n",
       "16296       2.43: Seiin Koukou Danshi Volley-bu\n",
       "9315                     Haikyuu!!: Lev Genzan!\n",
       "Name: Name, dtype: object"
      ]
     },
     "execution_count": 14,
     "metadata": {},
     "output_type": "execute_result"
    }
   ],
   "source": [
    "get_rec_content('Haikyuu!!', cosine_sim_sypnopsis)"
   ]
  },
  {
   "cell_type": "code",
   "execution_count": 15,
   "metadata": {},
   "outputs": [
    {
     "data": {
      "text/plain": [
       "9383                           Shingeki no Kyojin Season 2\n",
       "13252                          Shingeki no Kyojin Season 3\n",
       "14963                   Shingeki no Kyojin Season 3 Part 2\n",
       "15926                 Shingeki no Kyojin: The Final Season\n",
       "16841                        Shingeki no Kyojin: Chronicle\n",
       "7879                                Shingeki no Kyojin OVA\n",
       "8052                       Shingeki no Kyojin: Ano Hi Kara\n",
       "9018           Shingeki no Kyojin Movie 1: Guren no Yumiya\n",
       "9019          Shingeki no Kyojin Movie 2: Jiyuu no Tsubasa\n",
       "13804    Shingeki no Kyojin Season 2 Movie: Kakusei no ...\n",
       "Name: Name, dtype: object"
      ]
     },
     "execution_count": 15,
     "metadata": {},
     "output_type": "execute_result"
    }
   ],
   "source": [
    "get_rec_content('Shingeki no Kyojin', cosine_sim_genres)"
   ]
  },
  {
   "cell_type": "code",
   "execution_count": 16,
   "metadata": {},
   "outputs": [
    {
     "data": {
      "text/plain": [
       "53                      Full Metal Panic! The Second Raid\n",
       "80                                                    Air\n",
       "614                                         Air in Summer\n",
       "766                            Suzumiya Haruhi no Yuuutsu\n",
       "920     Full Metal Panic! The Second Raid: Wari to Him...\n",
       "1031                         Munto: Toki no Kabe wo Koete\n",
       "1069                                                Munto\n",
       "1388                                         Kanon (2006)\n",
       "1718                                           Lucky☆Star\n",
       "1984                                              Clannad\n",
       "Name: Name, dtype: object"
      ]
     },
     "execution_count": 16,
     "metadata": {},
     "output_type": "execute_result"
    }
   ],
   "source": [
    "get_rec_content('Koe no Katachi', cosine_sim_studios)"
   ]
  },
  {
   "cell_type": "code",
   "execution_count": 17,
   "metadata": {},
   "outputs": [
    {
     "data": {
      "text/plain": [
       "13017      Himouto! Umaru-chan R\n",
       "10870       Himouto! Umaru-chanS\n",
       "5964                Hamster Club\n",
       "10028          Toko-chan Chokkin\n",
       "10873           Ganbare-bu Next!\n",
       "13356             Alice or Alice\n",
       "10772    Himouto! Umaru-chan OVA\n",
       "11754     Sansha Sanyou Specials\n",
       "586            Shichinin no Nana\n",
       "3240             Koala Boy Kokki\n",
       "Name: Name, dtype: object"
      ]
     },
     "execution_count": 17,
     "metadata": {},
     "output_type": "execute_result"
    }
   ],
   "source": [
    "get_rec_content('Himouto! Umaru-chan', cosine_sim_soup)"
   ]
  },
  {
   "cell_type": "markdown",
   "metadata": {},
   "source": [
    "### comparison of all content-based reccomender above"
   ]
  },
  {
   "cell_type": "code",
   "execution_count": 18,
   "metadata": {},
   "outputs": [
    {
     "data": {
      "text/plain": [
       "15199                     Haikyuu!!: To the Top\n",
       "9895                    Haikyuu!! Second Season\n",
       "2803                              Attacker You!\n",
       "3592                           Ashita e Attack!\n",
       "5654                         Attack No.1 (1970)\n",
       "13273                   Haikyuu!!: vs. \"Akaten\"\n",
       "1407                                Attack No.1\n",
       "4898     Shoujo Fight: Norainu-tachi no Odekake\n",
       "16296       2.43: Seiin Koukou Danshi Volley-bu\n",
       "9315                     Haikyuu!!: Lev Genzan!\n",
       "Name: Name, dtype: object"
      ]
     },
     "execution_count": 18,
     "metadata": {},
     "output_type": "execute_result"
    }
   ],
   "source": [
    "get_rec_content('Haikyuu!!', cosine_sim_sypnopsis)"
   ]
  },
  {
   "cell_type": "code",
   "execution_count": 19,
   "metadata": {},
   "outputs": [
    {
     "data": {
      "text/plain": [
       "5633                                     Rokudenashi Blues\n",
       "7454                                         Batsu & Terry\n",
       "8305                                             Haikyuu!!\n",
       "9895                               Haikyuu!! Second Season\n",
       "10139                 Haikyuu!! Movie 1: Owari to Hajimari\n",
       "10495                 Haikyuu!! Movie 2: Shousha to Haisha\n",
       "11624    Haikyuu!!: Karasuno Koukou vs. Shiratorizawa G...\n",
       "12834                   Haikyuu!! Movie 3: Sainou to Sense\n",
       "12835                Haikyuu!! Movie 4: Concept no Tatakai\n",
       "14234                                        Ahiru no Sora\n",
       "Name: Name, dtype: object"
      ]
     },
     "execution_count": 19,
     "metadata": {},
     "output_type": "execute_result"
    }
   ],
   "source": [
    "get_rec_content('Haikyuu!!', cosine_sim_genres)"
   ]
  },
  {
   "cell_type": "code",
   "execution_count": 20,
   "metadata": {},
   "outputs": [
    {
     "data": {
      "text/plain": [
       "93               Sakigake!! Cromartie Koukou\n",
       "128                                   Blood+\n",
       "178                            Video Girl Ai\n",
       "381                  Blood: The Last Vampire\n",
       "437        One Piece: Taose! Kaizoku Ganzack\n",
       "438    Koukaku Kidoutai: Stand Alone Complex\n",
       "439                                Innocence\n",
       "492                              Otogizoushi\n",
       "493               Boku no Chikyuu wo Mamotte\n",
       "535                                  Jin-Rou\n",
       "Name: Name, dtype: object"
      ]
     },
     "execution_count": 20,
     "metadata": {},
     "output_type": "execute_result"
    }
   ],
   "source": [
    "get_rec_content('Haikyuu!!', cosine_sim_studios)"
   ]
  },
  {
   "cell_type": "code",
   "execution_count": 21,
   "metadata": {},
   "outputs": [
    {
     "data": {
      "text/plain": [
       "15199                     Haikyuu!!: To the Top\n",
       "9895                    Haikyuu!! Second Season\n",
       "3592                           Ashita e Attack!\n",
       "2803                              Attacker You!\n",
       "13273                   Haikyuu!!: vs. \"Akaten\"\n",
       "5654                         Attack No.1 (1970)\n",
       "1407                                Attack No.1\n",
       "4898     Shoujo Fight: Norainu-tachi no Odekake\n",
       "16296       2.43: Seiin Koukou Danshi Volley-bu\n",
       "9315                     Haikyuu!!: Lev Genzan!\n",
       "Name: Name, dtype: object"
      ]
     },
     "execution_count": 21,
     "metadata": {},
     "output_type": "execute_result"
    }
   ],
   "source": [
    "get_rec_content('Haikyuu!!', cosine_sim_soup)"
   ]
  },
  {
   "cell_type": "markdown",
   "metadata": {},
   "source": []
  }
 ],
 "metadata": {
  "interpreter": {
   "hash": "687283a719458cf756b21f8aec4dc49db45b351a63bc5764ed43f4bfefddd902"
  },
  "kernelspec": {
   "display_name": "Python 3.9.7 64-bit",
   "name": "python3"
  },
  "language_info": {
   "codemirror_mode": {
    "name": "ipython",
    "version": 3
   },
   "file_extension": ".py",
   "mimetype": "text/x-python",
   "name": "python",
   "nbconvert_exporter": "python",
   "pygments_lexer": "ipython3",
   "version": "3.9.7"
  },
  "orig_nbformat": 4
 },
 "nbformat": 4,
 "nbformat_minor": 2
}
